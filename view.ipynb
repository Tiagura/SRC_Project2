{
 "cells": [
  {
   "cell_type": "code",
   "execution_count": 1,
   "metadata": {},
   "outputs": [
    {
     "name": "stdout",
     "output_type": "stream",
     "text": [
      "Countries that not exists in data_normal:\n",
      "Russian Federation\n",
      "Lebanon\n",
      "Czech Republic\n",
      "Myanmar\n",
      "Nepal\n",
      "Kazakhstan\n",
      "Kyrgyzstan\n",
      "Ukraine\n",
      "Bangladesh\n",
      "Uzbekistan\n",
      "Taiwan\n",
      "Seychelles\n",
      "Antigua and Barbuda\n",
      "Austria\n",
      "Vietnam\n",
      "Cyprus\n",
      "Armenia\n",
      "Bulgaria\n",
      "Luxembourg\n",
      "Iran, Islamic Republic of\n",
      "Maldives\n",
      "Denmark\n",
      "Panama\n",
      "Gibraltar\n"
     ]
    }
   ],
   "source": [
    "import pandas as pd\n",
    "import ipaddress\n",
    "import dns.resolver\n",
    "import dns.reversename\n",
    "import pygeoip\n",
    "import pandas as pd\n",
    "import matplotlib.pyplot as plt\n",
    "from IPython.display import display\n",
    "    \n",
    "#data \n",
    "data_normal = pd.read_parquet('data0.parquet')\n",
    "data_attack = pd.read_parquet('test0.parquet')\n",
    "\n",
    "# Get the organization name for an IP address\n",
    "geo1=pygeoip.GeoIP('./GeoIP_DBs/GeoIP.dat')\n",
    "geo2=pygeoip.GeoIP('./GeoIP_DBs/GeoIPASNum.dat')\n",
    "\n",
    "def get_countryname(ip):\n",
    "    return geo1.country_name_by_addr(ip)\n",
    "\n",
    "# Verify if all ports are equal in data_normal vs data_attack\n",
    "if (data_normal['port'].unique() != data_attack['port'].unique()).all():\n",
    "    print(\"Different ports in data_normal vs data_attack\")\n",
    "\n",
    "# Verify if all protocols are equal in data_normal vs data_attack\n",
    "if (data_normal['proto'].unique() != data_attack['proto'].unique()).all():\n",
    "    print(\"Different protocols in data_normal vs data_attack\")\n",
    "\n",
    "# Put a label for each dst_ip with the country name\n",
    "data_normal['dst_country'] = data_normal['dst_ip'].apply(get_countryname)\n",
    "data_attack['dst_country'] = data_attack['dst_ip'].apply(get_countryname)\n",
    "\n",
    "# Show the countries that not exists in data_normal\n",
    "print(\"Countries that not exists in data_normal:\")\n",
    "for country in data_attack['dst_country'].unique():\n",
    "    if country not in data_normal['dst_country'].unique():\n",
    "        print(country)\n",
    "\n"
   ]
  },
  {
   "cell_type": "code",
   "execution_count": 2,
   "metadata": {},
   "outputs": [
    {
     "name": "stdout",
     "output_type": "stream",
     "text": [
      "Percentage of packets with each protocol in data_normal:\n",
      "tcp\t87.93%\n",
      "udp\t12.07%\n",
      "\n",
      "Percentage of packets with each protocol in data_attack:\n",
      "tcp\t78.28%\n",
      "udp\t21.72%\n"
     ]
    }
   ],
   "source": [
    "# Percentage of packets with each protocol in data_normal\n",
    "data_normal_proto = data_normal.groupby('proto')['proto'].count()\n",
    "data_normal_proto = data_normal_proto / data_normal_proto.sum() * 100\n",
    "\n",
    "# Percentage of packets with each protocol in data_attack\n",
    "data_attack_proto = data_attack.groupby('proto')['proto'].count()\n",
    "data_attack_proto = data_attack_proto / data_attack_proto.sum() * 100\n",
    "\n",
    "# Show \n",
    "print(\"Percentage of packets with each protocol in data_normal:\")\n",
    "for proto in data_normal_proto.index:\n",
    "    print(proto + \"\\t\" + str(round(data_normal_proto[proto], 2)) + \"%\")\n",
    "\n",
    "\n",
    "print(\"\\nPercentage of packets with each protocol in data_attack:\")\n",
    "for proto in data_attack_proto.index:\n",
    "    print(proto + \"\\t\" + str(round(data_attack_proto[proto], 2)) + \"%\")"
   ]
  },
  {
   "cell_type": "code",
   "execution_count": 3,
   "metadata": {},
   "outputs": [
    {
     "name": "stdout",
     "output_type": "stream",
     "text": [
      "Ips that are generating more traffic than 99% othersl:\n",
      "IP: 192.168.100.176 - 79884 packets\n",
      "IP: 192.168.100.188 - 45942 packets\n",
      "IP: 192.168.100.49 - 12103 packets\n",
      "IP: 192.168.100.75 - 10846 packets\n"
     ]
    }
   ],
   "source": [
    "# Check possilbe dangerous src_ip in data_attack\n",
    "\n",
    "# Get the frequency of each src_ip in data_normal\n",
    "data_normal_src_ip = data_normal.groupby('src_ip')['src_ip'].count()\n",
    "data_normal_src_ip = data_normal_src_ip.sort_values(ascending=False)\n",
    "\n",
    "# Get the frequency of each src_ip in data_attack\n",
    "data_attack_src_ip = data_attack.groupby('src_ip')['src_ip'].count()\n",
    "data_attack_src_ip = data_attack_src_ip.sort_values(ascending=False)\n",
    "\n",
    "# Get the src_ip that is generating more traffic than 99% of the src_ip in data_normal\n",
    "data_attack_src_ip = data_attack_src_ip[data_attack_src_ip > data_normal_src_ip.quantile(0.99)]\n",
    "data_attack_src_ip = data_attack_src_ip.sort_values(ascending=False)\n",
    "\n",
    "print(\"Ips that are generating more traffic than 99% othersl:\")\n",
    "for ip in data_attack_src_ip.index:\n",
    "    print(\"IP: \" + ip + \" - \" + str(data_attack_src_ip[ip]) + \" packets\")"
   ]
  },
  {
   "cell_type": "code",
   "execution_count": 4,
   "metadata": {},
   "outputs": [
    {
     "name": "stdout",
     "output_type": "stream",
     "text": [
      "Countries that have a difference of more than 50% in data_attack:\n",
      "Chile\t\t\t204%\n",
      "China\t\t\t529%\n",
      "Indonesia\t\t99%\n",
      "Israel\t\t\t64%\n",
      "Korea, Republic of\t61%\n"
     ]
    }
   ],
   "source": [
    "# Assuming 'up_bytes' and 'down_bytes' are the columns representing the bytes in the dataset\n",
    "\n",
    "#  Sum 'up_bytes' and 'down_bytes'\n",
    "data_normal['bytes'] = data_normal['up_bytes'] + data_normal['down_bytes']\n",
    "data_attack['bytes'] = data_attack['up_bytes'] + data_attack['down_bytes']\n",
    "\n",
    "# Sum all bytes by dst_country\n",
    "data_normal_bytes = data_normal.groupby('dst_country')['bytes'].sum()\n",
    "data_attack_bytes = data_attack.groupby('dst_country')['bytes'].sum()\n",
    "\n",
    "# verify the difference between data_normal_bytes and data_attack_bytes\n",
    "data_diff_bytes = data_attack_bytes - data_normal_bytes\n",
    "data_diff_bytes = data_diff_bytes.sort_values(ascending=False)\n",
    "data_diff_bytes = data_diff_bytes.dropna()\n",
    "\n",
    "# Calculate the percentage of difference\n",
    "data_diff_bytes = data_diff_bytes / data_normal_bytes * 100\n",
    "\n",
    "# Show the countries that have a difference of more than 100% in data_attack\n",
    "print(\"Countries that have a difference of more than 50% in data_attack:\")\n",
    "for country in data_diff_bytes.index:\n",
    "    if data_diff_bytes[country] > 50:\n",
    "        # check if i need '\\t'\n",
    "        # i want that the second column start in the same place\n",
    "        if len(country) < 8:\n",
    "            print(country + \"\\t\\t\\t\" + str(int(data_diff_bytes[country])) + \"%\")\n",
    "        elif len(country) < 16:\n",
    "            print(country + \"\\t\\t\" + str(int(data_diff_bytes[country])) + \"%\")\n",
    "        else:\n",
    "            print(country + \"\\t\" + str(int(data_diff_bytes[country])) + \"%\")\n",
    "\n"
   ]
  }
 ],
 "metadata": {
  "kernelspec": {
   "display_name": "venv",
   "language": "python",
   "name": "python3"
  },
  "language_info": {
   "codemirror_mode": {
    "name": "ipython",
    "version": 3
   },
   "file_extension": ".py",
   "mimetype": "text/x-python",
   "name": "python",
   "nbconvert_exporter": "python",
   "pygments_lexer": "ipython3",
   "version": "3.10.6"
  },
  "orig_nbformat": 4
 },
 "nbformat": 4,
 "nbformat_minor": 2
}
