{
 "cells": [
  {
   "cell_type": "code",
   "execution_count": 23,
   "metadata": {},
   "outputs": [
    {
     "name": "stdout",
     "output_type": "stream",
     "text": [
      "Countries that not exists in data_normal:\n",
      "Russian Federationwith 1191 flows\n"
     ]
    }
   ],
   "source": [
    "import pandas as pd\n",
    "import ipaddress\n",
    "import dns.resolver\n",
    "import dns.reversename\n",
    "import pygeoip\n",
    "import pandas as pd\n",
    "import matplotlib.pyplot as plt\n",
    "    \n",
    "#data \n",
    "data_normal = pd.read_parquet('data0.parquet')\n",
    "data_attack = pd.read_parquet('test0.parquet')\n",
    "\n",
    "# Get the organization name for an IP address\n",
    "geo1=pygeoip.GeoIP('./GeoIP_DBs/GeoIP.dat')\n",
    "geo2=pygeoip.GeoIP('./GeoIP_DBs/GeoIPASNum.dat')\n",
    "\n",
    "def get_countryname(ip):\n",
    "    return geo1.country_name_by_addr(ip)\n",
    "\n",
    "# Verify if all ports are equal in data_normal vs data_attack\n",
    "if (data_normal['port'].unique() != data_attack['port'].unique()).all():\n",
    "    print(\"Different ports in data_normal vs data_attack\")\n",
    "\n",
    "# Verify if all protocols are equal in data_normal vs data_attack\n",
    "if (data_normal['proto'].unique() != data_attack['proto'].unique()).all():\n",
    "    print(\"Different protocols in data_normal vs data_attack\")\n",
    "\n",
    "# Put a label for each dst_ip with the country name\n",
    "data_normal['dst_country'] = data_normal['dst_ip'].apply(get_countryname)\n",
    "data_attack['dst_country'] = data_attack['dst_ip'].apply(get_countryname)\n",
    "\n",
    "# Show the countries that not exists in data_normal\n",
    "print(\"Countries that not exists in data_normal:\")\n",
    "\n",
    "\n",
    "\n",
    "\n",
    "for country in data_attack['dst_country'].unique():\n",
    "    if country not in data_normal['dst_country'].unique() and len(data_attack.loc[data_attack['dst_country']==country]) > 100:\n",
    "        print(country + \"with \" + str(len(data_attack.loc[data_attack['dst_country']==country])) + \" flows\")\n",
    "\n"
   ]
  },
  {
   "cell_type": "code",
   "execution_count": 3,
   "metadata": {},
   "outputs": [
    {
     "name": "stdout",
     "output_type": "stream",
     "text": [
      "Ips that are generating more traffic than 99% othersl:\n",
      "IP: 192.168.100.176 - 79884 packets\n",
      "IP: 192.168.100.188 - 45942 packets\n",
      "IP: 192.168.100.49 - 12103 packets\n",
      "IP: 192.168.100.75 - 10846 packets\n"
     ]
    }
   ],
   "source": [
    "# Check possilbe dangerous src_ip in data_attack\n",
    "\n",
    "# Get the frequency of each src_ip in data_normal\n",
    "data_normal_src_ip = data_normal.groupby('src_ip')['src_ip'].count()\n",
    "data_normal_src_ip = data_normal_src_ip.sort_values(ascending=False)\n",
    "\n",
    "# Get the frequency of each src_ip in data_attack\n",
    "data_attack_src_ip = data_attack.groupby('src_ip')['src_ip'].count()\n",
    "data_attack_src_ip = data_attack_src_ip.sort_values(ascending=False)\n",
    "\n",
    "# Get the src_ip that is generating more traffic than 99% of the src_ip in data_normal\n",
    "data_attack_src_ip = data_attack_src_ip[data_attack_src_ip > data_normal_src_ip.quantile(0.99)]\n",
    "data_attack_src_ip = data_attack_src_ip.sort_values(ascending=False)\n",
    "\n",
    "print(\"Ips that are generating more traffic than 99% othersl:\")\n",
    "for ip in data_attack_src_ip.index:\n",
    "    print(\"IP: \" + ip + \" - \" + str(data_attack_src_ip[ip]) + \" packets\")"
   ]
  },
  {
   "cell_type": "code",
   "execution_count": 4,
   "metadata": {},
   "outputs": [
    {
     "name": "stdout",
     "output_type": "stream",
     "text": [
      "Countries that have a difference of more than 50% in data_attack:\n",
      "Chile\t\t\t204%\n",
      "China\t\t\t529%\n",
      "Indonesia\t\t99%\n",
      "Israel\t\t\t64%\n",
      "Korea, Republic of\t61%\n"
     ]
    }
   ],
   "source": [
    "# Assuming 'up_bytes' and 'down_bytes' are the columns representing the bytes in the dataset\n",
    "\n",
    "#  Sum 'up_bytes' and 'down_bytes'\n",
    "data_normal['bytes'] = data_normal['up_bytes'] + data_normal['down_bytes']\n",
    "data_attack['bytes'] = data_attack['up_bytes'] + data_attack['down_bytes']\n",
    "\n",
    "# Sum all bytes by dst_country\n",
    "data_normal_bytes = data_normal.groupby('dst_country')['bytes'].sum()\n",
    "data_attack_bytes = data_attack.groupby('dst_country')['bytes'].sum()\n",
    "\n",
    "# verify the difference between data_normal_bytes and data_attack_bytes\n",
    "data_diff_bytes = data_attack_bytes - data_normal_bytes\n",
    "data_diff_bytes = data_diff_bytes.sort_values(ascending=False)\n",
    "data_diff_bytes = data_diff_bytes.dropna()\n",
    "\n",
    "# Calculate the percentage of difference\n",
    "data_diff_bytes = data_diff_bytes / data_normal_bytes * 100\n",
    "\n",
    "# Show the countries that have a difference of more than 100% in data_attack\n",
    "print(\"Countries that have a difference of more than 50% in data_attack:\")\n",
    "for country in data_diff_bytes.index:\n",
    "    if data_diff_bytes[country] > 50:\n",
    "        # check if i need '\\t'\n",
    "        # i want that the second column start in the same place\n",
    "        if len(country) < 8:\n",
    "            print(country + \"\\t\\t\\t\" + str(int(data_diff_bytes[country])) + \"%\")\n",
    "        elif len(country) < 16:\n",
    "            print(country + \"\\t\\t\" + str(int(data_diff_bytes[country])) + \"%\")\n",
    "        else:\n",
    "            print(country + \"\\t\" + str(int(data_diff_bytes[country])) + \"%\")\n",
    "\n"
   ]
  },
  {
   "cell_type": "code",
   "execution_count": 32,
   "metadata": {},
   "outputs": [
    {
     "name": "stdout",
     "output_type": "stream",
     "text": [
      "New Chile IPs\n",
      "IP 40.97.14.201 flows : 7\n",
      "IP 40.97.14.161 flows : 5\n",
      "New China IPs\n",
      "15.230.41.82 -> 2\n",
      "13.34.7.70 -> 8\n",
      "150.222.135.245 -> 1\n",
      "13.34.7.87 -> 9\n",
      "15.230.41.191 -> 3\n",
      "15.230.74.35 -> 2\n",
      "150.222.135.193 -> 2\n",
      "15.230.73.206 -> 1\n",
      "150.222.135.49 -> 10\n",
      "15.230.73.254 -> 11\n",
      "150.222.135.120 -> 2\n",
      "150.222.135.26 -> 1\n",
      "13.34.7.125 -> 6\n",
      "13.34.7.97 -> 1\n",
      "150.222.135.249 -> 1\n",
      "15.230.141.187 -> 3\n",
      "15.230.141.38 -> 2\n",
      "15.230.74.72 -> 2\n",
      "15.230.41.100 -> 5\n",
      "15.230.74.125 -> 3\n",
      "150.222.135.223 -> 9\n",
      "150.222.135.40 -> 20\n",
      "13.34.7.64 -> 5\n",
      "15.230.74.42 -> 4\n"
     ]
    }
   ],
   "source": [
    "# check for connections between our private ips and Chile, China, Indonesia, Israel and Korea, Republic of\n",
    "\n",
    "# new connections to chile\n",
    "chile_normal = data_normal[data_normal['dst_country'].str.contains('chile', case=False)]\n",
    "chile_attack = data_attack[data_attack['dst_country'].str.contains('chile', case=False)]\n",
    "merged = pd.merge(chile_normal, chile_attack, on='dst_ip', how='outer', indicator=True)\n",
    "dif = merged[merged[\"_merge\"] != 'right_only']\n",
    "print(\"New Chile IPs\")\n",
    "for ip in dif['dst_ip'].unique():\n",
    "    print(\"IP \"+ str(ip) +\" flows : \"+str(len(dif.loc[dif['dst_ip']==ip])))\n",
    "\n",
    "# new connections to china\n",
    "china_normal = data_normal[data_normal['dst_country'].str.contains('china', case=False)]\n",
    "china_attack = data_attack[data_attack['dst_country'].str.contains('china', case=False)]\n",
    "merged = pd.merge(china_normal, china_attack, on='dst_ip', how='outer', indicator=True)\n",
    "dif = merged[merged[\"_merge\"] != 'right_only']\n",
    "print(\"New China IPs\")\n",
    "for ip in dif['dst_ip'].unique():\n",
    "    print(str(ip) +\" -> \"+str(len(dif.loc[dif['dst_ip']==ip])))\n",
    "\n",
    "# no need to check others"
   ]
  },
  {
   "cell_type": "code",
   "execution_count": 5,
   "metadata": {},
   "outputs": [
    {
     "name": "stdout",
     "output_type": "stream",
     "text": [
      "Number of rows in data_normal: 980027\n",
      "Number of rows in data_attack: 1061078\n",
      "Number of packets to port 53 by dst_ip in data_normal:\n",
      "IP: 192.168.100.224 - 58048 packets, protocol: ['udp']\n",
      "IP: 192.168.100.225 - 57922 packets, protocol: ['udp']\n",
      "\n",
      "Number of packets to port 53 by dst_ip in data_attack:\n",
      "IP: 192.168.100.224 - 112900 packets, protocol: ['udp']\n",
      "IP: 192.168.100.225 - 115214 packets, protocol: ['udp']\n"
     ]
    }
   ],
   "source": [
    "# count rows\n",
    "print(\"Number of rows in data_normal: \" + str(len(data_normal)))\n",
    "print(\"Number of rows in data_attack: \" + str(len(data_attack)))\n",
    "\n",
    "# Count number of packets to port 53\n",
    "data_normal_dns = data_normal[data_normal['port'] == 53]\n",
    "data_attack_dns = data_attack[data_attack['port'] == 53]\n",
    "\n",
    "# Count number of packets to port 53 by dst_ip\n",
    "data_normal_dns = data_normal_dns.groupby('dst_ip')['dst_ip'].count()\n",
    "data_attack_dns = data_attack_dns.groupby('dst_ip')['dst_ip'].count()\n",
    "\n",
    "# Show\n",
    "print(\"Number of packets to port 53 by dst_ip in data_normal:\")\n",
    "for ip in data_normal_dns.index:\n",
    "    print(\"IP: \" + ip + \" - \" + str(data_normal_dns[ip]) + \" packets\" + \", protocol: \" + str(data_normal[data_normal['dst_ip'] == ip]['proto'].unique()))\n",
    "\n",
    "print(\"\\nNumber of packets to port 53 by dst_ip in data_attack:\")\n",
    "for ip in data_attack_dns.index:\n",
    "    print(\"IP: \" + ip + \" - \" + str(data_attack_dns[ip]) + \" packets\" + \", protocol: \" + str(data_attack[data_attack['dst_ip'] == ip]['proto'].unique()))\n",
    "\n",
    "# verify when dst_ip is 192.168.100.224 or 192.168.100.225"
   ]
  }
 ],
 "metadata": {
  "kernelspec": {
   "display_name": "venv",
   "language": "python",
   "name": "python3"
  },
  "language_info": {
   "codemirror_mode": {
    "name": "ipython",
    "version": 3
   },
   "file_extension": ".py",
   "mimetype": "text/x-python",
   "name": "python",
   "nbconvert_exporter": "python",
   "pygments_lexer": "ipython3",
   "version": "3.10.6"
  },
  "orig_nbformat": 4
 },
 "nbformat": 4,
 "nbformat_minor": 2
}
